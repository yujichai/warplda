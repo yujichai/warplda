{
 "cells": [
  {
   "cell_type": "code",
   "execution_count": 1,
   "metadata": {},
   "outputs": [],
   "source": [
    "import json\n",
    "import numpy as np\n",
    "import pickle\n",
    "import sys"
   ]
  },
  {
   "cell_type": "code",
   "execution_count": 23,
   "metadata": {},
   "outputs": [],
   "source": [
    "rna_corpus = pickle.load(open(\"./data/rna.corpus.pickle\", \"rb\"))\n",
    "rna_vocab = pickle.load(open(\"./data/rna.vocab.pickle\", \"rb\"))"
   ]
  },
  {
   "cell_type": "code",
   "execution_count": 24,
   "metadata": {},
   "outputs": [
    {
     "name": "stdout",
     "output_type": "stream",
     "text": [
      "[(0, 2), (3, 2), (32, 2), (57, 2), (69, 2), (70, 2), (120, 2), (140, 2), (184, 2), (187, 2), (220, 2), (242, 2), (244, 2), (290, 2), (316, 2), (345, 2), (358, 2), (393, 2), (404, 2), (423, 2), (480, 2), (503, 2), (514, 2), (524, 2), (541, 2), (568, 2), (605, 2), (606, 3), (638, 2), (647, 2), (676, 2), (687, 2), (761, 2), (772, 2), (803, 2), (813, 2), (881, 2), (883, 2), (933, 2), (934, 2), (970, 2), (999, 2), (1010, 2), (1033, 3), (1065, 2), (1080, 4), (1087, 4), (1125, 2), (1128, 2), (1188, 4), (1198, 2), (1213, 2), (1217, 2), (1222, 2), (1236, 3), (1259, 2), (1265, 2), (1341, 2), (1348, 2), (1360, 2), (1382, 2), (1399, 2), (1401, 2), (1412, 2), (1419, 2), (1432, 2), (1472, 2), (1474, 3), (1478, 2), (1520, 2), (1540, 2), (1557, 2), (1579, 2), (1584, 2), (1596, 2), (1603, 2), (1618, 2), (1621, 2), (1623, 2), (1626, 2), (1651, 2), (1662, 2), (1675, 2), (1687, 2), (1702, 2), (1723, 2), (1725, 2), (1737, 2), (1742, 2), (1797, 2), (1802, 2), (1808, 2)]\n",
      "1838\n"
     ]
    }
   ],
   "source": [
    "print(rna_corpus[8])\n",
    "print(len(rna_vocab))"
   ]
  },
  {
   "cell_type": "code",
   "execution_count": 45,
   "metadata": {},
   "outputs": [],
   "source": [
    "def printTxt(corpus, vocab, outputFileName):\n",
    "    temp = []\n",
    "    f = open(outputFileName, \"w\")\n",
    "    for idx, doc in enumerate(corpus):\n",
    "        f.write((str(idx) + ' ') * 2)\n",
    "        for token in doc:\n",
    "            vocabID, count = token\n",
    "            vocabName = vocab[vocabID]\n",
    "            f.write((str(vocabName) + ' ') * count)\n",
    "        f.write('\\n')\n",
    "    f.close()\n",
    "    \n",
    "def readUCITxt(inputDocwordName, inputVocabName):\n",
    "    vocab = open(inputVocabName).read().splitlines()\n",
    "    corpus = []\n",
    "    docword = open(inputDocwordName).read().splitlines()\n",
    "    docword = docword[3:]\n",
    "    preID = 0\n",
    "    for idx, line in enumerate(docword):\n",
    "        lineList = line.split(' ')\n",
    "        intList = [int(i) for i in lineList] \n",
    "        if intList[0] != preID:\n",
    "            preID = intList[0]\n",
    "            corpus.append([])\n",
    "        corpus[-1].append((intList[1]-1, intList[2]))\n",
    "    return corpus, vocab\n",
    "\n",
    "def UCI2Txt(inputDocwordName, inputVocabName, outputFileName):\n",
    "    corpus, vocab = readUCITxt(inputDocwordName, inputVocabName)\n",
    "    printTxt(corpus, vocab, outputFileName)"
   ]
  },
  {
   "cell_type": "code",
   "execution_count": 46,
   "metadata": {},
   "outputs": [],
   "source": [
    "UCI2Txt('./data/docword.nytimes.txt', './data/vocab.nytimes.txt', './data/nytimes.txt')"
   ]
  },
  {
   "cell_type": "code",
   "execution_count": 38,
   "metadata": {},
   "outputs": [],
   "source": [
    "UCI2Txt('./data/docword.enron.txt', './data/vocab.enron.txt', './data/enron.txt')\n",
    "UCI2Txt('./data/docword.nips.txt', './data/vocab.nips.txt', './data/nips.txt')\n",
    "printTxt(rna_corpus, rna_vocab, './data/rna.txt')"
   ]
  },
  {
   "cell_type": "code",
   "execution_count": null,
   "metadata": {},
   "outputs": [],
   "source": []
  }
 ],
 "metadata": {
  "kernelspec": {
   "display_name": "Python 3",
   "language": "python",
   "name": "python3"
  },
  "language_info": {
   "codemirror_mode": {
    "name": "ipython",
    "version": 3
   },
   "file_extension": ".py",
   "mimetype": "text/x-python",
   "name": "python",
   "nbconvert_exporter": "python",
   "pygments_lexer": "ipython3",
   "version": "3.7.4"
  }
 },
 "nbformat": 4,
 "nbformat_minor": 2
}
